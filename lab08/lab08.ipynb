{
 "cells": [
  {
   "cell_type": "code",
   "execution_count": 85,
   "metadata": {},
   "outputs": [],
   "source": [
    "from sklearn import datasets\n",
    "data_breast_cancer = datasets.load_breast_cancer()\n",
    "\n",
    "from sklearn.datasets import load_iris \n",
    "data_iris = load_iris()"
   ]
  },
  {
   "cell_type": "code",
   "execution_count": 86,
   "metadata": {},
   "outputs": [
    {
     "name": "stdout",
     "output_type": "stream",
     "text": [
      "(569, 30)\n",
      "(150, 4)\n",
      "(569, 1)\n",
      "(150, 1)\n"
     ]
    }
   ],
   "source": [
    "from sklearn.decomposition import PCA\n",
    "print(data_breast_cancer.data.shape)\n",
    "print(data_iris.data.shape)\n",
    "\n",
    "pca_bc = PCA(n_components=0.9)\n",
    "data_breast_cancer_pca = pca_bc.fit_transform(data_breast_cancer.data)\n",
    "\n",
    "pca_ir = PCA(n_components=0.9)\n",
    "data_iris_pca = pca_ir.fit_transform(data_iris.data)\n",
    "\n",
    "print(data_breast_cancer_pca.shape)\n",
    "print(data_iris_pca.shape)\n"
   ]
  },
  {
   "cell_type": "code",
   "execution_count": 87,
   "metadata": {},
   "outputs": [
    {
     "name": "stdout",
     "output_type": "stream",
     "text": [
      "(569, 7)\n",
      "(150, 2)\n"
     ]
    }
   ],
   "source": [
    "from sklearn.preprocessing import StandardScaler\n",
    "\n",
    "scaler = StandardScaler()\n",
    "data_breast_cancer_scaled = scaler.fit_transform(data_breast_cancer.data)\n",
    "data_iris_scaled = scaler.fit_transform(data_iris.data)\n",
    "\n",
    "data_breast_cancer_pca_scaled = pca_bc.fit_transform(data_breast_cancer_scaled)\n",
    "data_iris_pca_scaled = pca_ir.fit_transform(data_iris_scaled)\n",
    "\n",
    "print(data_breast_cancer_pca_scaled.shape)\n",
    "print(data_iris_pca_scaled.shape)"
   ]
  },
  {
   "cell_type": "code",
   "execution_count": 88,
   "metadata": {},
   "outputs": [
    {
     "name": "stdout",
     "output_type": "stream",
     "text": [
      "[0.44272026 0.18971182 0.09393163 0.06602135 0.05495768 0.04024522\n",
      " 0.02250734]\n",
      "[0.72962445 0.22850762]\n"
     ]
    }
   ],
   "source": [
    "import pickle\n",
    "\n",
    "variance_bc = pca_bc.explained_variance_ratio_\n",
    "variance_ir = pca_ir.explained_variance_ratio_\n",
    "\n",
    "print(variance_bc)\n",
    "print(variance_ir)\n",
    "\n",
    "with open('pca_bc.pkl', 'wb') as f:\n",
    "    pickle.dump(variance_bc, f)\n",
    "\n",
    "with open('pca_ir.pkl', 'wb') as f:\n",
    "    pickle.dump(variance_ir, f)\n"
   ]
  },
  {
   "cell_type": "code",
   "execution_count": 89,
   "metadata": {},
   "outputs": [],
   "source": [
    "import numpy as np\n",
    "\n",
    "idx_bc = []\n",
    "idx_ir = []\n",
    "for i in range(data_breast_cancer_pca_scaled.shape[1]):\n",
    "    idx_bc.append(np.argmax(abs(pca_bc.components_[i])))\n",
    "\n",
    "for i in range(data_iris_pca_scaled.shape[1]):\n",
    "    idx_ir.append(np.argmax(abs(pca_ir.components_[i])))\n",
    "\n",
    "with open(\"idx_bc.pkl\", \"wb\") as f:\n",
    "    pickle.dump(idx_bc, f)\n",
    "\n",
    "with open(\"idx_ir.pkl\", \"wb\") as f:\n",
    "    pickle.dump(idx_ir, f)\n",
    "\n"
   ]
  }
 ],
 "metadata": {
  "kernelspec": {
   "display_name": "mllab",
   "language": "python",
   "name": "python3"
  },
  "language_info": {
   "codemirror_mode": {
    "name": "ipython",
    "version": 3
   },
   "file_extension": ".py",
   "mimetype": "text/x-python",
   "name": "python",
   "nbconvert_exporter": "python",
   "pygments_lexer": "ipython3",
   "version": "3.9.18"
  }
 },
 "nbformat": 4,
 "nbformat_minor": 2
}
