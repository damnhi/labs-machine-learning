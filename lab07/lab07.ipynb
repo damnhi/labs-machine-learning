{
 "cells": [
  {
   "cell_type": "code",
   "execution_count": 2,
   "metadata": {},
   "outputs": [],
   "source": [
    "from sklearn.datasets import fetch_openml \n",
    "import numpy as np\n",
    "import matplotlib.pyplot as plt\n",
    "mnist = fetch_openml('mnist_784', version=1, as_frame=False, parser='auto') \n",
    "mnist.target = mnist.target.astype(np.uint8)\n",
    "X = mnist[\"data\"]\n",
    "y = mnist[\"target\"]"
   ]
  },
  {
   "cell_type": "code",
   "execution_count": 21,
   "metadata": {},
   "outputs": [
    {
     "name": "stdout",
     "output_type": "stream",
     "text": [
      "10 0.0586915389505002\n"
     ]
    }
   ],
   "source": [
    "from sklearn.cluster import KMeans\n",
    "from sklearn.metrics import silhouette_score\n",
    "\n",
    "cluster_number_list = [8, 9, 10, 11, 12]\n",
    "shilouette_score_list = []\n",
    "kmeans_predicted_list = []\n",
    "for k in cluster_number_list:\n",
    "    kmeans = KMeans(n_clusters=k, n_init=10)\n",
    "    y_pred = kmeans.fit_predict(X)\n",
    "    kmeans_predicted_list.append(y_pred)\n",
    "    shilouette_score = silhouette_score(X, y_pred)\n",
    "    shilouette_score_list.append(shilouette_score)"
   ]
  },
  {
   "cell_type": "code",
   "execution_count": 22,
   "metadata": {},
   "outputs": [],
   "source": [
    "import pickle\n",
    "\n",
    "with open('kmeans_sil.pkl', 'wb') as f:\n",
    "    pickle.dump(shilouette_score_list, f)"
   ]
  },
  {
   "cell_type": "code",
   "execution_count": 3,
   "metadata": {},
   "outputs": [
    {
     "ename": "NameError",
     "evalue": "name 'kmeans_predicted_list' is not defined",
     "output_type": "error",
     "traceback": [
      "\u001b[0;31m---------------------------------------------------------------------------\u001b[0m",
      "\u001b[0;31mNameError\u001b[0m                                 Traceback (most recent call last)",
      "Cell \u001b[0;32mIn[3], line 9\u001b[0m\n\u001b[1;32m      6\u001b[0m     \u001b[38;5;28;01mreturn\u001b[39;00m [np\u001b[38;5;241m.\u001b[39margmax(confusion_matrix(y, y_pred)[i]) \u001b[38;5;28;01mfor\u001b[39;00m i \u001b[38;5;129;01min\u001b[39;00m \u001b[38;5;28mrange\u001b[39m(\u001b[38;5;241m10\u001b[39m)]\n\u001b[1;32m      8\u001b[0m kmeans_argmax \u001b[38;5;241m=\u001b[39m \u001b[38;5;28mset\u001b[39m()\n\u001b[0;32m----> 9\u001b[0m \u001b[38;5;28;01mfor\u001b[39;00m y_pred \u001b[38;5;129;01min\u001b[39;00m \u001b[43mkmeans_predicted_list\u001b[49m:\n\u001b[1;32m     10\u001b[0m     kmeans_argmax\u001b[38;5;241m.\u001b[39mupdate(get_argmax(y, y_pred))\n\u001b[1;32m     11\u001b[0m     \u001b[38;5;28mprint\u001b[39m(confusion_matrix(y, y_pred))\n",
      "\u001b[0;31mNameError\u001b[0m: name 'kmeans_predicted_list' is not defined"
     ]
    }
   ],
   "source": [
    "from sklearn.metrics import confusion_matrix\n",
    "\n",
    "def get_argmax(y, y_pred):\n",
    "    return [np.argmax(confusion_matrix(y, y_pred)[i]) for i in range(10)]\n",
    "\n",
    "kmeans_argmax = set()\n",
    "for y_pred in kmeans_predicted_list:\n",
    "    kmeans_argmax.update(get_argmax(y, y_pred))\n",
    "\n",
    "kmeans_argmax = sorted(list(kmeans_argmax))\n",
    "with open('kmeans_argmax.pkl', 'wb') as f:\n",
    "    pickle.dump(kmeans_argmax, f)\n",
    "\n"
   ]
  },
  {
   "cell_type": "code",
   "execution_count": 4,
   "metadata": {},
   "outputs": [
    {
     "name": "stdout",
     "output_type": "stream",
     "text": [
      "[279.26152617215286, 304.37641170103836, 317.5893575043093, 328.7658741414626, 333.4546445920344, 352.89800226127664, 355.1774204534967, 358.07401469528617, 359.64287842247063, 360.42474942767177]\n"
     ]
    }
   ],
   "source": [
    "from sklearn.cluster import DBSCAN\n",
    "\n",
    "dist = []\n",
    "for i in range(300):\n",
    "    for j in range(300, len(X)):\n",
    "        dist.append(np.linalg.norm(X[i] - X[j]))\n",
    "dist = sorted(dist)\n",
    "\n",
    "with open('dist.pkl', 'wb') as f:\n",
    "    pickle.dump(dist[:10], f)\n"
   ]
  },
  {
   "cell_type": "code",
   "execution_count": 10,
   "metadata": {},
   "outputs": [
    {
     "name": "stdout",
     "output_type": "stream",
     "text": [
      "[300.40909845916684, 312.4254623975335, 324.4418263359002]\n",
      "4\n",
      "7\n",
      "22\n"
     ]
    },
    {
     "ename": "NameError",
     "evalue": "name 'pickle' is not defined",
     "output_type": "error",
     "traceback": [
      "\u001b[0;31m---------------------------------------------------------------------------\u001b[0m",
      "\u001b[0;31mNameError\u001b[0m                                 Traceback (most recent call last)",
      "Cell \u001b[0;32mIn[10], line 17\u001b[0m\n\u001b[1;32m     14\u001b[0m     \u001b[38;5;28mprint\u001b[39m(\u001b[38;5;28mlen\u001b[39m(\u001b[38;5;28mset\u001b[39m(y_pred)))\n\u001b[1;32m     16\u001b[0m \u001b[38;5;28;01mwith\u001b[39;00m \u001b[38;5;28mopen\u001b[39m(\u001b[38;5;124m'\u001b[39m\u001b[38;5;124mdbscan_len.pkl\u001b[39m\u001b[38;5;124m'\u001b[39m, \u001b[38;5;124m'\u001b[39m\u001b[38;5;124mwb\u001b[39m\u001b[38;5;124m'\u001b[39m) \u001b[38;5;28;01mas\u001b[39;00m f:\n\u001b[0;32m---> 17\u001b[0m     \u001b[43mpickle\u001b[49m\u001b[38;5;241m.\u001b[39mdump(dbscan_len, f)\n",
      "\u001b[0;31mNameError\u001b[0m: name 'pickle' is not defined"
     ]
    }
   ],
   "source": [
    "s = np.mean(dist[:3])\n",
    "i = s\n",
    "eps_list = []\n",
    "while i < 1.1* s:\n",
    "    eps_list.append(i)\n",
    "    i += 0.04*s\n",
    "\n",
    "dbscan_len_list = []\n",
    "for eps in eps_list:\n",
    "    dbscan = DBSCAN(eps=eps)\n",
    "    y_pred = dbscan.fit_predict(X)\n",
    "    dbscan_len_list.append(len(set(y_pred)))\n",
    "\n",
    "with open('dbscan_len.pkl', 'wb') as f:\n",
    "    pickle.dump(dbscan_len_list, f)"
   ]
  }
 ],
 "metadata": {
  "kernelspec": {
   "display_name": "mllab",
   "language": "python",
   "name": "python3"
  },
  "language_info": {
   "codemirror_mode": {
    "name": "ipython",
    "version": 3
   },
   "file_extension": ".py",
   "mimetype": "text/x-python",
   "name": "python",
   "nbconvert_exporter": "python",
   "pygments_lexer": "ipython3",
   "version": "3.9.18"
  }
 },
 "nbformat": 4,
 "nbformat_minor": 2
}
