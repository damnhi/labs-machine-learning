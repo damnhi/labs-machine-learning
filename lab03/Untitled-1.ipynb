{
 "cells": [
  {
   "cell_type": "code",
   "execution_count": 57,
   "metadata": {},
   "outputs": [],
   "source": [
    "import pandas as pd\n",
    "import numpy as np\n",
    "import matplotlib.pyplot as plt\n",
    "from sklearn.model_selection import train_test_split"
   ]
  },
  {
   "cell_type": "code",
   "execution_count": 58,
   "metadata": {},
   "outputs": [
    {
     "data": {
      "text/plain": [
       "<Axes: xlabel='x', ylabel='y'>"
      ]
     },
     "execution_count": 58,
     "metadata": {},
     "output_type": "execute_result"
    },
    {
     "data": {
      "image/png": "[encoded data removed]",
      "text/plain": [
       "<Figure size 640x480 with 1 Axes>"
      ]
     },
     "metadata": {},
     "output_type": "display_data"
    }
   ],
   "source": [
    "size = 300\n",
    "X = np.random.rand(size)*5-2.5\n",
    "w4, w3, w2, w1, w0 = 1, 2, 1, -4, 2\n",
    "y = w4*(X**4) + w3*(X**3) + w2*(X**2) + w1*X + w0 + np.random.randn(size)*8-4 \n",
    "df = pd.DataFrame({'x': X, 'y': y}) \n",
    "df.to_csv('dane_do_regresji.csv',index=None)\n",
    "df.plot.scatter(x='x',y='y')"
   ]
  },
  {
   "cell_type": "code",
   "execution_count": 59,
   "metadata": {},
   "outputs": [
    {
     "data": {
      "text/html": [
       "<div>\n",
       "<style scoped>\n",
       "    .dataframe tbody tr th:only-of-type {\n",
       "        vertical-align: middle;\n",
       "    }\n",
       "\n",
       "    .dataframe tbody tr th {\n",
       "        vertical-align: top;\n",
       "    }\n",
       "\n",
       "    .dataframe thead th {\n",
       "        text-align: right;\n",
       "    }\n",
       "</style>\n",
       "<table border=\"1\" class=\"dataframe\">\n",
       "  <thead>\n",
       "    <tr style=\"text-align: right;\">\n",
       "      <th></th>\n",
       "      <th>x</th>\n",
       "      <th>y</th>\n",
       "    </tr>\n",
       "  </thead>\n",
       "  <tbody>\n",
       "    <tr>\n",
       "      <th>0</th>\n",
       "      <td>-1.975439</td>\n",
       "      <td>13.990758</td>\n",
       "    </tr>\n",
       "    <tr>\n",
       "      <th>1</th>\n",
       "      <td>1.365195</td>\n",
       "      <td>9.660206</td>\n",
       "    </tr>\n",
       "    <tr>\n",
       "      <th>2</th>\n",
       "      <td>-0.639327</td>\n",
       "      <td>6.356527</td>\n",
       "    </tr>\n",
       "    <tr>\n",
       "      <th>3</th>\n",
       "      <td>2.186766</td>\n",
       "      <td>31.429235</td>\n",
       "    </tr>\n",
       "    <tr>\n",
       "      <th>4</th>\n",
       "      <td>0.516853</td>\n",
       "      <td>-11.227830</td>\n",
       "    </tr>\n",
       "  </tbody>\n",
       "</table>\n",
       "</div>"
      ],
      "text/plain": [
       "          x          y\n",
       "0 -1.975439  13.990758\n",
       "1  1.365195   9.660206\n",
       "2 -0.639327   6.356527\n",
       "3  2.186766  31.429235\n",
       "4  0.516853 -11.227830"
      ]
     },
     "execution_count": 59,
     "metadata": {},
     "output_type": "execute_result"
    }
   ],
   "source": [
    "df.head()"
   ]
  },
  {
   "cell_type": "code",
   "execution_count": 60,
   "metadata": {},
   "outputs": [],
   "source": [
    "train_set, test_set = train_test_split(df, test_size=0.2)"
   ]
  },
  {
   "cell_type": "code",
   "execution_count": 61,
   "metadata": {},
   "outputs": [
    {
     "data": {
      "text/html": [
       "<style>#sk-container-id-8 {color: black;}#sk-container-id-8 pre{padding: 0;}#sk-container-id-8 div.sk-toggleable {background-color: white;}#sk-container-id-8 label.sk-toggleable__label {cursor: pointer;display: block;width: 100%;margin-bottom: 0;padding: 0.3em;box-sizing: border-box;text-align: center;}#sk-container-id-8 label.sk-toggleable__label-arrow:before {content: \"▸\";float: left;margin-right: 0.25em;color: #696969;}#sk-container-id-8 label.sk-toggleable__label-arrow:hover:before {color: black;}#sk-container-id-8 div.sk-estimator:hover label.sk-toggleable__label-arrow:before {color: black;}#sk-container-id-8 div.sk-toggleable__content {max-height: 0;max-width: 0;overflow: hidden;text-align: left;background-color: #f0f8ff;}#sk-container-id-8 div.sk-toggleable__content pre {margin: 0.2em;color: black;border-radius: 0.25em;background-color: #f0f8ff;}#sk-container-id-8 input.sk-toggleable__control:checked~div.sk-toggleable__content {max-height: 200px;max-width: 100%;overflow: auto;}#sk-container-id-8 input.sk-toggleable__control:checked~label.sk-toggleable__label-arrow:before {content: \"▾\";}#sk-container-id-8 div.sk-estimator input.sk-toggleable__control:checked~label.sk-toggleable__label {background-color: #d4ebff;}#sk-container-id-8 div.sk-label input.sk-toggleable__control:checked~label.sk-toggleable__label {background-color: #d4ebff;}#sk-container-id-8 input.sk-hidden--visually {border: 0;clip: rect(1px 1px 1px 1px);clip: rect(1px, 1px, 1px, 1px);height: 1px;margin: -1px;overflow: hidden;padding: 0;position: absolute;width: 1px;}#sk-container-id-8 div.sk-estimator {font-family: monospace;background-color: #f0f8ff;border: 1px dotted black;border-radius: 0.25em;box-sizing: border-box;margin-bottom: 0.5em;}#sk-container-id-8 div.sk-estimator:hover {background-color: #d4ebff;}#sk-container-id-8 div.sk-parallel-item::after {content: \"\";width: 100%;border-bottom: 1px solid gray;flex-grow: 1;}#sk-container-id-8 div.sk-label:hover label.sk-toggleable__label {background-color: #d4ebff;}#sk-container-id-8 div.sk-serial::before {content: \"\";position: absolute;border-left: 1px solid gray;box-sizing: border-box;top: 0;bottom: 0;left: 50%;z-index: 0;}#sk-container-id-8 div.sk-serial {display: flex;flex-direction: column;align-items: center;background-color: white;padding-right: 0.2em;padding-left: 0.2em;position: relative;}#sk-container-id-8 div.sk-item {position: relative;z-index: 1;}#sk-container-id-8 div.sk-parallel {display: flex;align-items: stretch;justify-content: center;background-color: white;position: relative;}#sk-container-id-8 div.sk-item::before, #sk-container-id-8 div.sk-parallel-item::before {content: \"\";position: absolute;border-left: 1px solid gray;box-sizing: border-box;top: 0;bottom: 0;left: 50%;z-index: -1;}#sk-container-id-8 div.sk-parallel-item {display: flex;flex-direction: column;z-index: 1;position: relative;background-color: white;}#sk-container-id-8 div.sk-parallel-item:first-child::after {align-self: flex-end;width: 50%;}#sk-container-id-8 div.sk-parallel-item:last-child::after {align-self: flex-start;width: 50%;}#sk-container-id-8 div.sk-parallel-item:only-child::after {width: 0;}#sk-container-id-8 div.sk-dashed-wrapped {border: 1px dashed gray;margin: 0 0.4em 0.5em 0.4em;box-sizing: border-box;padding-bottom: 0.4em;background-color: white;}#sk-container-id-8 div.sk-label label {font-family: monospace;font-weight: bold;display: inline-block;line-height: 1.2em;}#sk-container-id-8 div.sk-label-container {text-align: center;}#sk-container-id-8 div.sk-container {/* jupyter's `normalize.less` sets `[hidden] { display: none; }` but bootstrap.min.css set `[hidden] { display: none !important; }` so we also need the `!important` here to be able to override the default hidden behavior on the sphinx rendered scikit-learn.org. See: https://github.com/scikit-learn/scikit-learn/issues/21755 */display: inline-block !important;position: relative;}#sk-container-id-8 div.sk-text-repr-fallback {display: none;}</style><div id=\"sk-container-id-8\" class=\"sk-top-container\"><div class=\"sk-text-repr-fallback\"><pre>LinearRegression()</pre><b>In a Jupyter environment, please rerun this cell to show the HTML representation or trust the notebook. <br />On GitHub, the HTML representation is unable to render, please try loading this page with nbviewer.org.</b></div><div class=\"sk-container\" hidden><div class=\"sk-item\"><div class=\"sk-estimator sk-toggleable\"><input class=\"sk-toggleable__control sk-hidden--visually\" id=\"sk-estimator-id-8\" type=\"checkbox\" checked><label for=\"sk-estimator-id-8\" class=\"sk-toggleable__label sk-toggleable__label-arrow\">LinearRegression</label><div class=\"sk-toggleable__content\"><pre>LinearRegression()</pre></div></div></div></div></div>"
      ],
      "text/plain": [
       "LinearRegression()"
      ]
     },
     "execution_count": 61,
     "metadata": {},
     "output_type": "execute_result"
    }
   ],
   "source": [
    "from sklearn.linear_model import LinearRegression\n",
    "\n",
    "lin_reg = LinearRegression()\n",
    "lin_reg.fit(train_set[['x']], train_set['y'])"
   ]
  },
  {
   "cell_type": "code",
   "execution_count": 62,
   "metadata": {},
   "outputs": [
    {
     "data": {
      "text/html": [
       "<style>#sk-container-id-9 {color: black;}#sk-container-id-9 pre{padding: 0;}#sk-container-id-9 div.sk-toggleable {background-color: white;}#sk-container-id-9 label.sk-toggleable__label {cursor: pointer;display: block;width: 100%;margin-bottom: 0;padding: 0.3em;box-sizing: border-box;text-align: center;}#sk-container-id-9 label.sk-toggleable__label-arrow:before {content: \"▸\";float: left;margin-right: 0.25em;color: #696969;}#sk-container-id-9 label.sk-toggleable__label-arrow:hover:before {color: black;}#sk-container-id-9 div.sk-estimator:hover label.sk-toggleable__label-arrow:before {color: black;}#sk-container-id-9 div.sk-toggleable__content {max-height: 0;max-width: 0;overflow: hidden;text-align: left;background-color: #f0f8ff;}#sk-container-id-9 div.sk-toggleable__content pre {margin: 0.2em;color: black;border-radius: 0.25em;background-color: #f0f8ff;}#sk-container-id-9 input.sk-toggleable__control:checked~div.sk-toggleable__content {max-height: 200px;max-width: 100%;overflow: auto;}#sk-container-id-9 input.sk-toggleable__control:checked~label.sk-toggleable__label-arrow:before {content: \"▾\";}#sk-container-id-9 div.sk-estimator input.sk-toggleable__control:checked~label.sk-toggleable__label {background-color: #d4ebff;}#sk-container-id-9 div.sk-label input.sk-toggleable__control:checked~label.sk-toggleable__label {background-color: #d4ebff;}#sk-container-id-9 input.sk-hidden--visually {border: 0;clip: rect(1px 1px 1px 1px);clip: rect(1px, 1px, 1px, 1px);height: 1px;margin: -1px;overflow: hidden;padding: 0;position: absolute;width: 1px;}#sk-container-id-9 div.sk-estimator {font-family: monospace;background-color: #f0f8ff;border: 1px dotted black;border-radius: 0.25em;box-sizing: border-box;margin-bottom: 0.5em;}#sk-container-id-9 div.sk-estimator:hover {background-color: #d4ebff;}#sk-container-id-9 div.sk-parallel-item::after {content: \"\";width: 100%;border-bottom: 1px solid gray;flex-grow: 1;}#sk-container-id-9 div.sk-label:hover label.sk-toggleable__label {background-color: #d4ebff;}#sk-container-id-9 div.sk-serial::before {content: \"\";position: absolute;border-left: 1px solid gray;box-sizing: border-box;top: 0;bottom: 0;left: 50%;z-index: 0;}#sk-container-id-9 div.sk-serial {display: flex;flex-direction: column;align-items: center;background-color: white;padding-right: 0.2em;padding-left: 0.2em;position: relative;}#sk-container-id-9 div.sk-item {position: relative;z-index: 1;}#sk-container-id-9 div.sk-parallel {display: flex;align-items: stretch;justify-content: center;background-color: white;position: relative;}#sk-container-id-9 div.sk-item::before, #sk-container-id-9 div.sk-parallel-item::before {content: \"\";position: absolute;border-left: 1px solid gray;box-sizing: border-box;top: 0;bottom: 0;left: 50%;z-index: -1;}#sk-container-id-9 div.sk-parallel-item {display: flex;flex-direction: column;z-index: 1;position: relative;background-color: white;}#sk-container-id-9 div.sk-parallel-item:first-child::after {align-self: flex-end;width: 50%;}#sk-container-id-9 div.sk-parallel-item:last-child::after {align-self: flex-start;width: 50%;}#sk-container-id-9 div.sk-parallel-item:only-child::after {width: 0;}#sk-container-id-9 div.sk-dashed-wrapped {border: 1px dashed gray;margin: 0 0.4em 0.5em 0.4em;box-sizing: border-box;padding-bottom: 0.4em;background-color: white;}#sk-container-id-9 div.sk-label label {font-family: monospace;font-weight: bold;display: inline-block;line-height: 1.2em;}#sk-container-id-9 div.sk-label-container {text-align: center;}#sk-container-id-9 div.sk-container {/* jupyter's `normalize.less` sets `[hidden] { display: none; }` but bootstrap.min.css set `[hidden] { display: none !important; }` so we also need the `!important` here to be able to override the default hidden behavior on the sphinx rendered scikit-learn.org. See: https://github.com/scikit-learn/scikit-learn/issues/21755 */display: inline-block !important;position: relative;}#sk-container-id-9 div.sk-text-repr-fallback {display: none;}</style><div id=\"sk-container-id-9\" class=\"sk-top-container\"><div class=\"sk-text-repr-fallback\"><pre>KNeighborsRegressor(n_neighbors=3)</pre><b>In a Jupyter environment, please rerun this cell to show the HTML representation or trust the notebook. <br />On GitHub, the HTML representation is unable to render, please try loading this page with nbviewer.org.</b></div><div class=\"sk-container\" hidden><div class=\"sk-item\"><div class=\"sk-estimator sk-toggleable\"><input class=\"sk-toggleable__control sk-hidden--visually\" id=\"sk-estimator-id-9\" type=\"checkbox\" checked><label for=\"sk-estimator-id-9\" class=\"sk-toggleable__label sk-toggleable__label-arrow\">KNeighborsRegressor</label><div class=\"sk-toggleable__content\"><pre>KNeighborsRegressor(n_neighbors=3)</pre></div></div></div></div></div>"
      ],
      "text/plain": [
       "KNeighborsRegressor(n_neighbors=3)"
      ]
     },
     "execution_count": 62,
     "metadata": {},
     "output_type": "execute_result"
    }
   ],
   "source": [
    "import sklearn.neighbors\n",
    "\n",
    "knn_3_reg = sklearn.neighbors.KNeighborsRegressor(n_neighbors=3)\n",
    "knn_3_reg.fit(train_set[['x']], train_set['y'])"
   ]
  },
  {
   "cell_type": "code",
   "execution_count": 63,
   "metadata": {},
   "outputs": [
    {
     "data": {
      "text/html": [
       "<style>#sk-container-id-10 {color: black;}#sk-container-id-10 pre{padding: 0;}#sk-container-id-10 div.sk-toggleable {background-color: white;}#sk-container-id-10 label.sk-toggleable__label {cursor: pointer;display: block;width: 100%;margin-bottom: 0;padding: 0.3em;box-sizing: border-box;text-align: center;}#sk-container-id-10 label.sk-toggleable__label-arrow:before {content: \"▸\";float: left;margin-right: 0.25em;color: #696969;}#sk-container-id-10 label.sk-toggleable__label-arrow:hover:before {color: black;}#sk-container-id-10 div.sk-estimator:hover label.sk-toggleable__label-arrow:before {color: black;}#sk-container-id-10 div.sk-toggleable__content {max-height: 0;max-width: 0;overflow: hidden;text-align: left;background-color: #f0f8ff;}#sk-container-id-10 div.sk-toggleable__content pre {margin: 0.2em;color: black;border-radius: 0.25em;background-color: #f0f8ff;}#sk-container-id-10 input.sk-toggleable__control:checked~div.sk-toggleable__content {max-height: 200px;max-width: 100%;overflow: auto;}#sk-container-id-10 input.sk-toggleable__control:checked~label.sk-toggleable__label-arrow:before {content: \"▾\";}#sk-container-id-10 div.sk-estimator input.sk-toggleable__control:checked~label.sk-toggleable__label {background-color: #d4ebff;}#sk-container-id-10 div.sk-label input.sk-toggleable__control:checked~label.sk-toggleable__label {background-color: #d4ebff;}#sk-container-id-10 input.sk-hidden--visually {border: 0;clip: rect(1px 1px 1px 1px);clip: rect(1px, 1px, 1px, 1px);height: 1px;margin: -1px;overflow: hidden;padding: 0;position: absolute;width: 1px;}#sk-container-id-10 div.sk-estimator {font-family: monospace;background-color: #f0f8ff;border: 1px dotted black;border-radius: 0.25em;box-sizing: border-box;margin-bottom: 0.5em;}#sk-container-id-10 div.sk-estimator:hover {background-color: #d4ebff;}#sk-container-id-10 div.sk-parallel-item::after {content: \"\";width: 100%;border-bottom: 1px solid gray;flex-grow: 1;}#sk-container-id-10 div.sk-label:hover label.sk-toggleable__label {background-color: #d4ebff;}#sk-container-id-10 div.sk-serial::before {content: \"\";position: absolute;border-left: 1px solid gray;box-sizing: border-box;top: 0;bottom: 0;left: 50%;z-index: 0;}#sk-container-id-10 div.sk-serial {display: flex;flex-direction: column;align-items: center;background-color: white;padding-right: 0.2em;padding-left: 0.2em;position: relative;}#sk-container-id-10 div.sk-item {position: relative;z-index: 1;}#sk-container-id-10 div.sk-parallel {display: flex;align-items: stretch;justify-content: center;background-color: white;position: relative;}#sk-container-id-10 div.sk-item::before, #sk-container-id-10 div.sk-parallel-item::before {content: \"\";position: absolute;border-left: 1px solid gray;box-sizing: border-box;top: 0;bottom: 0;left: 50%;z-index: -1;}#sk-container-id-10 div.sk-parallel-item {display: flex;flex-direction: column;z-index: 1;position: relative;background-color: white;}#sk-container-id-10 div.sk-parallel-item:first-child::after {align-self: flex-end;width: 50%;}#sk-container-id-10 div.sk-parallel-item:last-child::after {align-self: flex-start;width: 50%;}#sk-container-id-10 div.sk-parallel-item:only-child::after {width: 0;}#sk-container-id-10 div.sk-dashed-wrapped {border: 1px dashed gray;margin: 0 0.4em 0.5em 0.4em;box-sizing: border-box;padding-bottom: 0.4em;background-color: white;}#sk-container-id-10 div.sk-label label {font-family: monospace;font-weight: bold;display: inline-block;line-height: 1.2em;}#sk-container-id-10 div.sk-label-container {text-align: center;}#sk-container-id-10 div.sk-container {/* jupyter's `normalize.less` sets `[hidden] { display: none; }` but bootstrap.min.css set `[hidden] { display: none !important; }` so we also need the `!important` here to be able to override the default hidden behavior on the sphinx rendered scikit-learn.org. See: https://github.com/scikit-learn/scikit-learn/issues/21755 */display: inline-block !important;position: relative;}#sk-container-id-10 div.sk-text-repr-fallback {display: none;}</style><div id=\"sk-container-id-10\" class=\"sk-top-container\"><div class=\"sk-text-repr-fallback\"><pre>KNeighborsRegressor()</pre><b>In a Jupyter environment, please rerun this cell to show the HTML representation or trust the notebook. <br />On GitHub, the HTML representation is unable to render, please try loading this page with nbviewer.org.</b></div><div class=\"sk-container\" hidden><div class=\"sk-item\"><div class=\"sk-estimator sk-toggleable\"><input class=\"sk-toggleable__control sk-hidden--visually\" id=\"sk-estimator-id-10\" type=\"checkbox\" checked><label for=\"sk-estimator-id-10\" class=\"sk-toggleable__label sk-toggleable__label-arrow\">KNeighborsRegressor</label><div class=\"sk-toggleable__content\"><pre>KNeighborsRegressor()</pre></div></div></div></div></div>"
      ],
      "text/plain": [
       "KNeighborsRegressor()"
      ]
     },
     "execution_count": 63,
     "metadata": {},
     "output_type": "execute_result"
    }
   ],
   "source": [
    "knn_5_reg = sklearn.neighbors.KNeighborsRegressor(n_neighbors=5)\n",
    "knn_5_reg.fit(train_set[['x']], train_set['y'])"
   ]
  },
  {
   "cell_type": "code",
   "execution_count": 64,
   "metadata": {},
   "outputs": [
    {
     "name": "stdout",
     "output_type": "stream",
     "text": [
      "[ 5.34307465 33.22444586 -7.26083891 13.76602726 -5.73942882  3.6707926\n",
      " -7.23354384 29.91664652 -3.67050709 -6.47003665 12.90840459 14.20989944\n",
      "  0.10886477 -7.21731294 -7.1039624  -4.6146612  19.63815878 42.17016182\n",
      " 33.80762032  9.72496807  0.28686393 13.53453361 -4.47017332 -5.47048567\n",
      " 12.1516023  26.38598289 12.7883412  -5.78005047 21.9705186  -6.07379996\n",
      " -6.53852643  7.4853806  15.57176407  1.13658304 -4.26832226 21.03074457\n",
      " -6.63618416 34.53045235  2.18991718 41.64122245 -6.32184334 -7.10953559\n",
      " -7.18832354 -3.50897686 -7.21086479 -6.97640231 -7.19314977 29.45562564\n",
      " 28.63079712 39.74834254 -6.43268413 -2.52121545 21.0134333  19.86571814\n",
      " 27.89904491 20.05055293 -7.2545011  41.41303784 -7.03456231 11.61060884\n",
      " -5.73124203 27.860066   10.16577083 21.71606838 38.78091663 -1.51665624\n",
      "  4.31708613  4.04736964 -2.7748045  33.73216968 18.58403002  0.76688476\n",
      " 36.46408503  3.35448836 -6.73416624 -1.60083683 19.40492491 13.23704055\n",
      " -5.62147308 19.76676536 11.63964507  7.11042048 -1.48565755 31.58933101\n",
      "  2.85694755 -6.51022195 -3.75443993 19.19838762 37.4574992   5.25106233\n",
      "  0.56609331  6.62018961  1.43891318 29.97997254 -4.93362769 -6.96199645\n",
      " 17.57658442 15.01998952 11.17394631  5.04872801 -3.2113182  -5.39792524\n",
      " 27.39425532 -5.79872135 29.00558467 -5.92724415 -5.42706483 -6.52891849\n",
      "  5.24531563 31.53709467 -7.24911027  3.60144528 -7.12194805 -0.47391794\n",
      " -7.14781562 -3.11056698  6.24756873  4.73021344 11.45948328 -4.4988569\n",
      " -6.01082577 -6.83732186 15.47288296 15.0682496  -6.00465361 37.06613313\n",
      " -7.18817264 13.50534161  1.77614541 -5.53163315 -5.3970633  32.78461821\n",
      " -5.57812134 21.62227749 -1.98125713 20.37491882 30.52619561 12.64237261\n",
      " -6.39468049 -3.22098531  2.76039221 10.27705949 10.03208673 12.82144037\n",
      " 14.79436721 -7.21011209 26.89849938  0.38412715 -2.89079406 -2.76061714\n",
      " -5.23396952 -2.63002606 15.77296661 -6.63524139 -7.2360053  -5.33156072\n",
      " 28.41049277 38.89609639 -0.56760119 -0.88296632  7.0601338  -5.368026\n",
      " -7.25112731 -7.04189427  7.0599588  -6.57313116 -2.48851104 10.32199148\n",
      " 38.0820397  10.78632349 15.04938951 -7.25241249 17.13880355 16.41425473\n",
      " 28.66246017 16.85706327 -5.8363552   9.63328315 17.28587491 18.96233353\n",
      " 17.09692044 -4.45238932  2.18879373 -5.12251296 -5.04592266  7.45521121\n",
      " 12.84330988 -5.61552386 -1.00053076  0.44580798  5.53670679 -4.57632309\n",
      " -4.76610686 -4.07098136  5.98289195 14.2230386  30.94032002 -6.09611565\n",
      " -1.57822729  2.4170836   9.67887889 -4.82951944 36.55888762 42.67195483\n",
      " -7.02518606 -6.93003351  1.76783846 -7.25754233 30.74301236  0.49942633\n",
      " -7.17861991 -6.41839527 -0.93575006 24.14378368  5.59030031 39.73143401\n",
      "  1.88465808 28.42142425 -0.33186497  4.22612027 -7.20636751 -6.55997322\n",
      " 24.76459661 -0.56719321  3.63132647  3.5217289   3.78111731 -6.64822485\n",
      " 27.9054232   4.00440041 28.35509719 -4.63940245 -7.21498374 14.41284048\n",
      " 17.31484823 15.60467741 -4.21410115 16.47543885 43.29513109 25.88676992]\n",
      "[ 9.59401965e+00  3.69274154e+01 -5.17050649e+00  9.39375197e+00\n",
      " -6.97228207e+00  8.53292809e+00 -5.50690987e+00  3.17792972e+01\n",
      " -6.58747283e+00 -6.75414858e+00  1.32340117e+01  9.93765633e+00\n",
      " -4.40839588e+00 -5.60742182e+00 -3.90309448e+00 -6.87914583e+00\n",
      "  1.52369243e+01  5.16486769e+01  3.78523114e+01  1.19078423e+01\n",
      "  6.00086796e+00  9.11196830e+00 -6.84457403e+00 -3.55784984e-01\n",
      "  1.29429187e+01  1.63294255e+01  1.31887948e+01 -8.59717619e-01\n",
      "  1.57098976e+01 -1.37662567e+00 -6.71260354e+00  2.25098451e+00\n",
      "  1.41475812e+01 -3.63216843e+00 -6.78968492e+00  1.55319769e+01\n",
      " -6.64360591e+00  3.90056998e+01  7.49474529e+00  5.07476794e+01\n",
      " -1.85240683e+00 -5.99447196e+00 -4.30100285e+00 -6.52381211e+00\n",
      " -4.43856567e+00 -3.44742448e+00 -4.32868733e+00  3.10753457e+01\n",
      "  2.98243932e+01  4.75538489e+01 -6.77472113e+00  3.36723841e+00\n",
      "  1.88202234e+01  1.72543624e+01  2.87238609e+01  1.53282742e+01\n",
      " -4.84348173e+00  5.03601301e+01 -3.64179587e+00  1.27258393e+01\n",
      " -6.97307041e+00  2.86654845e+01  1.21078624e+01  1.97914233e+01\n",
      "  4.59402251e+01 -5.49682651e+00  8.95618345e+00 -1.13966400e+00\n",
      " -6.19330288e+00  3.77323638e+01  1.55366852e+01  6.39649785e+00\n",
      "  4.21285424e+01 -1.76811667e+00 -2.76914978e+00  4.29879461e+00\n",
      "  1.66330048e+01  8.75176294e+00 -6.98102736e+00  1.52657750e+01\n",
      "  6.85551669e+00  1.06025603e+01  4.41016153e+00  3.43615134e+01\n",
      " -2.20658659e+00 -2.24665283e+00  1.98003226e+00  1.63558822e+01\n",
      "  4.37537159e+01 -1.71689871e-03 -4.07066804e+00  1.03336571e+01\n",
      " -3.39250174e+00  3.18762565e+01  4.44700130e-01 -6.28636281e+00\n",
      "  1.42102215e+01  1.09423064e+01  1.25450210e+01  9.41515779e+00\n",
      " -6.39757778e+00 -6.98351223e+00  2.79698151e+01 -6.96572235e+00\n",
      "  3.03914426e+01 -1.11331971e+00 -6.98415170e+00 -6.71874799e+00\n",
      "  9.53497561e+00  3.42802144e+01 -4.76758374e+00  8.48648018e+00\n",
      " -5.96173922e+00  5.34471286e+00 -5.88676669e+00 -6.35237470e+00\n",
      "  9.81566221e-01 -5.01052284e-01  1.26638314e+01  1.04085768e+00\n",
      " -1.26205568e+00 -3.03855866e+00  1.41166256e+01  1.10026388e+01\n",
      " -6.93027802e+00  4.31117979e+01 -5.74408654e+00  9.07652690e+00\n",
      " -3.11948987e+00 -6.98412278e+00 -6.98348916e+00  3.62332314e+01\n",
      " -5.26917089e-01  1.96612391e+01 -5.77091191e+00  1.53977615e+01\n",
      "  3.27152181e+01  8.03828920e+00 -6.79426490e+00 -6.40185106e+00\n",
      " -2.29038943e+00  5.29081898e+00  1.20477827e+01  8.25220444e+00\n",
      "  1.06609581e+01 -5.64519039e+00  1.63792284e+01  6.08213537e+00\n",
      " -6.24967799e+00  3.11161959e+00 -6.97500857e+00  3.25179359e+00\n",
      "  1.18897001e+01 -2.52951765e+00 -4.63049745e+00 -1.40635957e-01\n",
      "  1.65005595e+01  4.61316680e+01  5.26128212e+00 -5.09494973e+00\n",
      "  1.80910726e+00 -1.96514840e-01 -4.79380301e+00 -6.14630537e+00\n",
      "  1.80892663e+00 -2.38652257e+00 -6.04805945e+00  1.21774353e+01\n",
      "  4.47825304e+01  5.86972877e+00  1.09790545e+01 -5.33363553e+00\n",
      "  1.36404850e+01  1.27066230e+01  1.65171185e+01  1.32759983e+01\n",
      " -6.96075855e+00  1.18655435e+01  1.38314297e+01  1.60402122e+01\n",
      "  1.45974707e+01  1.10228176e+00 -2.77758939e+00  1.72162291e-01\n",
      " -6.95581806e+00  1.07869159e+01  8.27838493e+00 -6.98132444e+00\n",
      "  4.86772528e+00 -4.16073435e+00  9.70992425e+00  9.37528949e-01\n",
      " -6.91082155e+00  1.59177700e+00  7.16926453e-01  1.37059707e+01\n",
      "  3.33544099e+01 -6.90742200e+00 -5.53419355e+00  7.66054885e+00\n",
      "  4.62009022e+00 -6.92261483e+00  4.22830314e+01  5.25068310e+01\n",
      " -6.17847548e+00 -6.33415261e+00 -3.12628513e+00 -5.25480040e+00\n",
      "  3.30495354e+01  6.17773741e+00 -4.24763964e+00 -2.05027827e+00\n",
      " -5.12958251e+00  1.60583483e+01  9.74176105e+00  4.75255366e+01\n",
      " -3.03040367e+00  1.65012994e+01 -4.72160036e+00 -9.74296191e-01\n",
      " -5.66362475e+00 -6.69849342e+00  2.41113788e+01 -4.88359947e+00\n",
      " -1.51945503e+00 -1.61829104e+00 -1.38354900e+00 -6.63420113e+00\n",
      "  1.64642389e+01 -1.17922171e+00  2.94087199e+01  8.52507702e-01\n",
      " -5.62000202e+00  1.37706776e+01  1.46576092e+01  1.41578359e+01\n",
      " -6.77370550e+00  1.27850398e+01  5.35771446e+01  1.62766192e+01]\n",
      "[ 5.12712656 37.43773289 -2.41858046  5.60343212 -4.14836834  4.25207678\n",
      " -2.63588362 30.65003074 -4.6410465  -3.72185101  9.95004513  6.10658153\n",
      " -4.22309132 -2.70430457 -1.71041576 -4.50649902 15.63393847 58.53121127\n",
      " 38.69146849  7.7333107   2.63530491  5.34533167 -4.53537446 -0.14837648\n",
      "  9.39678374 22.79024039  9.86115496 -0.3522022  17.93790261 -0.56480854\n",
      " -3.66807904 -0.32677433 12.03248482 -3.90163378 -4.5704002  16.98831207\n",
      " -3.58519158 40.2690799   3.52294072 57.17385649 -0.76490221 -2.98730761\n",
      " -1.91818914 -4.65233233 -1.99270329 -1.48454793 -1.93306603 29.74786464\n",
      " 28.16066786 52.42928755 -3.74984036  1.36801568 15.15132513 13.45253511\n",
      " 26.78152813 16.02848675 -2.22150588 56.59254375 -1.57947832  9.01147418\n",
      " -4.15203318 26.70882923  8.02322411 16.22546829 50.07270501 -4.5624864\n",
      "  4.58329078 -2.58623116 -4.66608845 38.52830147 11.63767123  2.85505042\n",
      " 44.61756082 -2.95115907 -1.16722342  1.78481984 12.79003487  5.01799553\n",
      " -4.19934934 15.75639241  3.34459369  6.12031983  1.83657654 34.01352916\n",
      " -3.19366095 -0.93482173  0.78696245 12.49673462 46.92400234 -1.8787637\n",
      " -4.08982553  5.83733826 -3.79228153 30.77479362  0.17148051 -3.22900579\n",
      " 10.27244397  7.05272604  8.70658956  4.96875543 -4.66510792 -4.28601991\n",
      " 25.84604979 -4.12123705 28.87757999 -0.45597679 -4.275411   -3.67582452\n",
      "  5.07431353 33.9063545  -2.17744309  4.21703232 -2.96195799  2.29095058\n",
      " -2.90499281 -4.66716298 -1.22427579 -2.19619415  8.90534071  0.4089916\n",
      " -0.51730545 -1.29089534 11.9513335   7.11022373 -4.01832945 46.00950113\n",
      " -2.80039258  5.31299462 -3.66260281 -4.23567352 -4.28633072 36.50345244\n",
      " -0.21729353 16.08059195 -4.61812482 16.34266909 31.8593678   4.37838868\n",
      " -3.77742418 -4.66485149 -3.23880133  2.03071779  7.93473624  4.5689196\n",
      "  6.78560314 -2.73049116 23.39575205  2.67964968 -4.66781255  1.25796422\n",
      " -4.34215133  1.31811265  7.96427614 -1.05950817 -2.09928323 -0.06207666\n",
      " 25.23399388 50.35084743  2.24878447 -4.45606025 -0.64553928 -0.08445845\n",
      " -2.19259903 -3.10918155 -0.64566822 -0.99616201 -4.65592038  8.12725554\n",
      " 48.39910453  2.509429    7.08773845 -2.52187521  9.69610739  8.76486892\n",
      " 25.54789527  9.33063851 -4.10346437  7.67367893  9.88857976 12.16428692\n",
      " 13.32241382  0.43351704 -3.49305311  0.0628893  -4.39958006  6.32291441\n",
      "  4.59231144 -4.20181977  2.05430414 -4.12642006  5.23237049  0.36776959\n",
      " -4.472626    0.62978079 -1.40409419 10.9512749  32.69169928 -3.96781457\n",
      " -4.57097474  3.63230768  1.48740085 -4.45729634 44.83554962 59.83161859\n",
      " -3.13601185 -3.27186335 -3.66589375 -2.47149921 32.29405849  2.73233148\n",
      " -1.88967689 -0.84966402 -4.46622513 20.24508244  5.26165057 52.3877023\n",
      " -3.61916856 25.24756736 -4.33629796 -2.48702016 -2.7433719  -3.65053821\n",
      " 21.18372961 -4.39045204 -2.80912177 -2.86595603 -2.73017194 -3.57440327\n",
      " 24.6112975  -2.60977239 27.63785392  0.33387831 -2.712997   11.10009615\n",
      " 13.51264064 12.0595632  -4.57879783  8.84241355 61.46381035 22.20896999]\n",
      "[ 5.61987861e+00  3.70328315e+01 -2.82396960e+00  5.21307831e+00\n",
      " -3.76454569e+00  4.52006062e+00 -2.95609791e+00  2.98861726e+01\n",
      " -3.94163396e+00 -3.55591288e+00  1.09947605e+01  5.67464525e+00\n",
      " -3.43744920e+00 -2.99675323e+00 -2.35576248e+00 -3.91389470e+00\n",
      "  1.62174069e+01  6.01516994e+01  3.83699736e+01  8.65853814e+00\n",
      "  2.39923248e+00  4.97700882e+00 -3.92310129e+00 -1.02713325e+00\n",
      "  1.04304664e+01  2.17207926e+01  1.09048853e+01 -1.22893430e+00\n",
      "  1.80967714e+01 -1.42972100e+00 -3.52837338e+00 -8.09596658e-02\n",
      "  1.30206155e+01 -3.15280348e+00 -3.93280850e+00  1.73360727e+01\n",
      " -3.48546925e+00  4.00597425e+01  3.57491098e+00  5.86272066e+01\n",
      " -1.60980339e+00 -3.16049950e+00 -2.49984174e+00 -3.93924573e+00\n",
      " -2.55006103e+00 -2.19181523e+00 -2.50992720e+00  2.89486625e+01\n",
      "  2.73067172e+01  5.33358030e+01 -3.57015320e+00  7.31780634e-01\n",
      "  1.42462262e+01  1.26000364e+01  2.58878895e+01  1.65475572e+01\n",
      " -2.69985485e+00  5.79757468e+01 -2.26169787e+00  1.00303866e+01\n",
      " -3.76624257e+00  2.58133058e+01  8.97598606e+00  1.52949033e+01\n",
      "  5.07299333e+01 -3.76302755e+00  4.94103861e+00 -2.02437684e+00\n",
      " -3.90483274e+00  3.81956621e+01  1.08588104e+01  2.69180447e+00\n",
      "  4.47575147e+01 -2.33591217e+00 -1.94712620e+00  1.27154449e+00\n",
      "  1.19622792e+01  4.67830629e+00 -3.78794923e+00  1.63202601e+01\n",
      "  3.16374999e+00  6.81896320e+00  1.33945061e+00  3.34075083e+01\n",
      " -2.54309549e+00 -1.75618432e+00  1.09719189e-02  1.16807113e+01\n",
      "  4.72722344e+01 -1.41942614e+00 -3.31822856e+00  6.48265374e+00\n",
      " -3.05768170e+00  3.00160605e+01 -6.92159632e-01 -3.29514706e+00\n",
      "  9.56145969e+00  6.54737913e+00  9.70952697e+00  5.42381077e+00\n",
      " -3.92984811e+00 -3.82659174e+00  2.49297690e+01 -3.75191831e+00\n",
      "  2.80471719e+01 -1.32817069e+00 -3.82195053e+00 -3.53235475e+00\n",
      "  5.55464341e+00  3.32946853e+01 -2.67150284e+00  4.47519618e+00\n",
      " -3.14610866e+00  1.94065082e+00 -3.11357671e+00 -3.92523973e+00\n",
      " -8.57201856e-01 -1.69113518e+00  9.91912851e+00 -4.29463847e-01\n",
      " -1.38571197e+00 -2.04459812e+00  1.29443569e+01  6.60061308e+00\n",
      " -3.70308398e+00  4.62732916e+01 -3.05312754e+00  4.94746583e+00\n",
      " -2.94551270e+00 -3.80433669e+00 -3.82672729e+00  3.60397574e+01\n",
      " -1.09638877e+00  1.51531180e+01 -3.82702839e+00  1.68079130e+01\n",
      "  3.11475850e+01  4.09692059e+00 -3.58412219e+00 -3.93025283e+00\n",
      " -2.58170189e+00  1.98983584e+00  8.87949817e+00  4.26979069e+00\n",
      "  6.30035887e+00 -3.01219900e+00  2.21456432e+01  2.45830631e+00\n",
      " -3.91274944e+00  5.91943287e-01 -3.85065464e+00  6.68207683e-01\n",
      "  7.39393646e+00 -1.85992081e+00 -2.62064038e+00 -9.38939754e-01\n",
      "  2.34026160e+01  5.10367066e+01  1.88459014e+00 -3.65461703e+00\n",
      " -3.57398373e-01 -9.61969211e-01 -2.68128064e+00 -3.22896536e+00\n",
      " -3.57510028e-01 -1.80759897e+00 -3.88146097e+00  9.08897413e+00\n",
      "  4.88886077e+01  2.41595110e+00  6.57979254e+00 -2.88736420e+00\n",
      "  9.01712687e+00  8.14193944e+00  2.36125338e+01  8.67300941e+00\n",
      " -3.74358690e+00  8.59276649e+00  9.19868585e+00  1.13621468e+01\n",
      "  1.42062232e+01 -4.01691722e-01 -2.79958140e+00 -8.08356325e-01\n",
      " -3.87423764e+00  7.05716779e+00  4.29103294e+00 -3.78907174e+00\n",
      "  1.62660241e+00 -3.35074951e+00  5.74943218e+00 -4.75876028e-01\n",
      " -3.90211820e+00 -1.75320971e-01 -1.01197065e+00  1.19872330e+01\n",
      "  3.20188299e+01 -3.67863296e+00 -3.77227136e+00  3.71814382e+00\n",
      "  1.50848190e+00 -3.89651443e+00  4.49945200e+01  6.16165758e+01\n",
      " -3.24388059e+00 -3.31855205e+00 -2.94835243e+00 -2.85658381e+00\n",
      "  3.16022890e+01  2.52847027e+00 -2.48042874e+00 -1.68355922e+00\n",
      " -3.66456191e+00  1.98713709e+01  5.78537007e+00  5.32896880e+01\n",
      " -2.90806219e+00  2.34117208e+01 -3.54100813e+00 -1.93965913e+00\n",
      " -3.01977370e+00 -3.51933918e+00  2.02086916e+01 -3.59169471e+00\n",
      " -2.21465243e+00 -2.26316928e+00 -2.14725892e+00 -3.47984554e+00\n",
      "  2.29821924e+01 -2.04447593e+00  2.67679837e+01 -5.13781000e-01\n",
      " -3.00188725e+00  1.21317550e+01  1.43770164e+01  1.30460157e+01\n",
      " -3.93481229e+00  8.21460866e+00  6.34611230e+01  2.13076600e+01]\n"
     ]
    }
   ],
   "source": [
    "from sklearn.preprocessing import PolynomialFeatures\n",
    "\n",
    "poly_feature_2 = PolynomialFeatures(degree=2, include_bias=False)\n",
    "X_poly_2 = poly_feature_2.fit_transform(train_set[['x']])\n",
    "poly_2_reg = LinearRegression()\n",
    "poly_2_reg.fit(X_poly_2, train_set['y'])\n",
    "y_pred_2 = poly_2_reg.predict(X_poly_2)\n",
    "print(y_pred_2)\n",
    "\n",
    "poly_features_3 = PolynomialFeatures(degree=3, include_bias=False)\n",
    "X_poly_3 = poly_features_3.fit_transform(train_set[['x']])\n",
    "lin_reg_3 = LinearRegression()\n",
    "lin_reg_3.fit(X_poly_3, train_set['y'])\n",
    "y_pred_3 = lin_reg_3.predict(X_poly_3)\n",
    "print(y_pred_3)\n",
    "\n",
    "poly_features_4 = PolynomialFeatures(degree=4, include_bias=False)\n",
    "X_poly_4 = poly_features_4.fit_transform(train_set[['x']])\n",
    "lin_reg_4 = LinearRegression()\n",
    "lin_reg_4.fit(X_poly_4, train_set['y'])\n",
    "y_pred_4 = lin_reg_4.predict(X_poly_4)\n",
    "print(y_pred_4)\n",
    "\n",
    "poly_features_5 = PolynomialFeatures(degree=5, include_bias=False)\n",
    "X_poly_5 = poly_features_5.fit_transform(train_set[['x']])\n",
    "lin_reg_5 = LinearRegression()\n",
    "lin_reg_5.fit(X_poly_5, train_set['y'])\n",
    "y_pred_5 = lin_reg_5.predict(X_poly_5)\n",
    "print(y_pred_5)"
   ]
  },
  {
   "cell_type": "code",
   "execution_count": 67,
   "metadata": {},
   "outputs": [
    {
     "name": "stdout",
     "output_type": "stream",
     "text": [
      "275.3418938651591 239.36737427814415\n",
      "46.274799072233435 109.40121930032089\n",
      "55.81275690979121 101.72760017561178\n",
      "98.96648116404043 106.92351177365074\n",
      "78.80395499064015 71.69439396846802\n",
      "69.00378889745664 67.44597241442767\n",
      "68.49357547798327 70.49279874078529\n"
     ]
    },
    {
     "data": {
      "text/html": [
       "<div>\n",
       "<style scoped>\n",
       "    .dataframe tbody tr th:only-of-type {\n",
       "        vertical-align: middle;\n",
       "    }\n",
       "\n",
       "    .dataframe tbody tr th {\n",
       "        vertical-align: top;\n",
       "    }\n",
       "\n",
       "    .dataframe thead th {\n",
       "        text-align: right;\n",
       "    }\n",
       "</style>\n",
       "<table border=\"1\" class=\"dataframe\">\n",
       "  <thead>\n",
       "    <tr style=\"text-align: right;\">\n",
       "      <th></th>\n",
       "      <th>train_mse</th>\n",
       "      <th>test_mse</th>\n",
       "    </tr>\n",
       "  </thead>\n",
       "  <tbody>\n",
       "    <tr>\n",
       "      <th>lin_reg</th>\n",
       "      <td>275.341894</td>\n",
       "      <td>239.367374</td>\n",
       "    </tr>\n",
       "    <tr>\n",
       "      <th>knn_3_reg</th>\n",
       "      <td>46.274799</td>\n",
       "      <td>109.401219</td>\n",
       "    </tr>\n",
       "    <tr>\n",
       "      <th>knn_5_reg</th>\n",
       "      <td>55.812757</td>\n",
       "      <td>101.727600</td>\n",
       "    </tr>\n",
       "    <tr>\n",
       "      <th>poly_2_reg</th>\n",
       "      <td>98.966481</td>\n",
       "      <td>106.923512</td>\n",
       "    </tr>\n",
       "    <tr>\n",
       "      <th>poly_3_reg</th>\n",
       "      <td>78.803955</td>\n",
       "      <td>71.694394</td>\n",
       "    </tr>\n",
       "    <tr>\n",
       "      <th>poly_4_reg</th>\n",
       "      <td>69.003789</td>\n",
       "      <td>67.445972</td>\n",
       "    </tr>\n",
       "    <tr>\n",
       "      <th>poly_5_reg</th>\n",
       "      <td>68.493575</td>\n",
       "      <td>70.492799</td>\n",
       "    </tr>\n",
       "  </tbody>\n",
       "</table>\n",
       "</div>"
      ],
      "text/plain": [
       "             train_mse    test_mse\n",
       "lin_reg     275.341894  239.367374\n",
       "knn_3_reg    46.274799  109.401219\n",
       "knn_5_reg    55.812757  101.727600\n",
       "poly_2_reg   98.966481  106.923512\n",
       "poly_3_reg   78.803955   71.694394\n",
       "poly_4_reg   69.003789   67.445972\n",
       "poly_5_reg   68.493575   70.492799"
      ]
     },
     "execution_count": 67,
     "metadata": {},
     "output_type": "execute_result"
    }
   ],
   "source": [
    "from sklearn.metrics import mean_squared_error\n",
    "\n",
    "mse_lin_reg_train = mean_squared_error(train_set['y'], lin_reg.predict(train_set[['x']]))\n",
    "mse_lin_reg_test = mean_squared_error(test_set['y'], lin_reg.predict(test_set[['x']]))\n",
    "print(mse_lin_reg_train, mse_lin_reg_test)\n",
    "\n",
    "mse_knn_3_reg_train = mean_squared_error(train_set['y'], knn_3_reg.predict(train_set[['x']]))\n",
    "mse_knn_3_reg_test = mean_squared_error(test_set['y'], knn_3_reg.predict(test_set[['x']]))\n",
    "print(mse_knn_3_reg_train, mse_knn_3_reg_test)\n",
    "\n",
    "mse_knn_5_reg_train = mean_squared_error(train_set['y'], knn_5_reg.predict(train_set[['x']]))\n",
    "mse_knn_5_reg_test = mean_squared_error(test_set['y'], knn_5_reg.predict(test_set[['x']]))\n",
    "print(mse_knn_5_reg_train, mse_knn_5_reg_test)\n",
    "\n",
    "mse_poly_reg_2_train = mean_squared_error(train_set['y'], poly_2_reg.predict(X_poly_2))\n",
    "mse_poly_reg_2_test = mean_squared_error(test_set['y'], poly_2_reg.predict(poly_feature_2.fit_transform(test_set[['x']])))\n",
    "print(mse_poly_reg_2_train, mse_poly_reg_2_test)\n",
    "\n",
    "mse_poly_reg_3_train = mean_squared_error(train_set['y'], lin_reg_3.predict(X_poly_3))\n",
    "mse_poly_reg_3_test = mean_squared_error(test_set['y'], lin_reg_3.predict(poly_features_3.fit_transform(test_set[['x']])))\n",
    "print(mse_poly_reg_3_train, mse_poly_reg_3_test)\n",
    "\n",
    "mse_poly_reg_4_train = mean_squared_error(train_set['y'], lin_reg_4.predict(X_poly_4))\n",
    "mse_poly_reg_4_test = mean_squared_error(test_set['y'], lin_reg_4.predict(poly_features_4.fit_transform(test_set[['x']])))\n",
    "print(mse_poly_reg_4_train, mse_poly_reg_4_test)\n",
    "\n",
    "mse_poly_reg_5_train = mean_squared_error(train_set['y'], lin_reg_5.predict(X_poly_5))\n",
    "mse_poly_reg_5_test = mean_squared_error(test_set['y'], lin_reg_5.predict(poly_features_5.fit_transform(test_set[['x']])))\n",
    "print(mse_poly_reg_5_train, mse_poly_reg_5_test)\n",
    "\n",
    "train_mse_list = [mse_lin_reg_train, mse_knn_3_reg_train, mse_knn_5_reg_train, mse_poly_reg_2_train, mse_poly_reg_3_train, mse_poly_reg_4_train, mse_poly_reg_5_train]\n",
    "test_mse_list = [mse_lin_reg_test, mse_knn_3_reg_test, mse_knn_5_reg_test, mse_poly_reg_2_test, mse_poly_reg_3_test, mse_poly_reg_4_test, mse_poly_reg_5_test]\n",
    "\n",
    "mse_dict = {'train_mse': train_mse_list, 'test_mse':test_mse_list}\n",
    "mse_df = pd.DataFrame(mse_dict, index=['lin_reg', 'knn_3_reg', 'knn_5_reg', 'poly_2_reg', 'poly_3_reg', 'poly_4_reg', 'poly_5_reg'])\n",
    "mse_df.to_pickle('mse.pkl')"
   ]
  },
  {
   "cell_type": "code",
   "execution_count": 66,
   "metadata": {},
   "outputs": [],
   "source": [
    "import pickle\n",
    "\n",
    "reg_tuple_list = [(lin_reg, None), (knn_3_reg, None), (knn_5_reg, None), (poly_2_reg, poly_feature_2), (lin_reg_3, poly_features_3), (lin_reg_4, poly_features_4), (lin_reg_5, poly_features_5)]\n",
    "\n",
    "with open('reg.pkl', 'wb') as f:\n",
    "    pickle.dump(reg_tuple_list, f)"
   ]
  }
 ],
 "metadata": {
  "kernelspec": {
   "display_name": "mllab",
   "language": "python",
   "name": "python3"
  },
  "language_info": {
   "codemirror_mode": {
    "name": "ipython",
    "version": 3
   },
   "file_extension": ".py",
   "mimetype": "text/x-python",
   "name": "python",
   "nbconvert_exporter": "python",
   "pygments_lexer": "ipython3",
   "version": "3.9.16"
  }
 },
 "nbformat": 4,
 "nbformat_minor": 2
}
