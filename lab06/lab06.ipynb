{
 "cells": [
  {
   "cell_type": "code",
   "execution_count": 17,
   "metadata": {},
   "outputs": [],
   "source": [
    "from sklearn import datasets\n",
    "data_breast_cancer = datasets.load_breast_cancer(as_frame=True)"
   ]
  },
  {
   "cell_type": "code",
   "execution_count": 18,
   "metadata": {},
   "outputs": [],
   "source": [
    "from sklearn.model_selection import train_test_split\n",
    "\n",
    "X = data_breast_cancer.data\n",
    "y = data_breast_cancer.target\n",
    "\n",
    "X_train, X_test, y_train, y_test = train_test_split(X, y, test_size=0.2, random_state=42)"
   ]
  },
  {
   "cell_type": "code",
   "execution_count": 19,
   "metadata": {},
   "outputs": [],
   "source": [
    "# Zbuduj ensemble używając klasyfikatorów binarnych, których używałeś(aś) w poprzednich ćwiczeniach, tj.: drzewa decyzyjne, regresja logistyczna, k najbliższych sąsiadów, do klasyfikacji w oparciu o cechy: mean texture, mean symmetry. Użyj domyślnych parametrów.\n",
    "from sklearn.ensemble import RandomForestClassifier\n",
    "from sklearn.ensemble import VotingClassifier\n",
    "from sklearn.tree import DecisionTreeClassifier\n",
    "from sklearn.linear_model import LogisticRegression\n",
    "from sklearn.neighbors import KNeighborsClassifier\n",
    "\n",
    "dt_clf = DecisionTreeClassifier()\n",
    "log_clf = LogisticRegression()\n",
    "knn_clf = KNeighborsClassifier()\n",
    "\n",
    "voting_clf_hard = VotingClassifier(\n",
    "    estimators=[('dt', dt_clf), ('log', log_clf), ('knn', knn_clf)],\n",
    "    voting='hard'\n",
    ")\n",
    "\n",
    "voting_clf_soft = VotingClassifier(\n",
    "    estimators=[('dt', dt_clf), ('log', log_clf), ('knn', knn_clf)],\n",
    "    voting='soft'\n",
    ")\n"
   ]
  },
  {
   "cell_type": "code",
   "execution_count": 20,
   "metadata": {},
   "outputs": [
    {
     "name": "stdout",
     "output_type": "stream",
     "text": [
      "DecisionTreeClassifier 0.631578947368421\n",
      "LogisticRegression 0.7017543859649122\n",
      "KNeighborsClassifier 0.6403508771929824\n",
      "VotingClassifier 0.7017543859649122\n",
      "VotingClassifier 0.6666666666666666\n"
     ]
    }
   ],
   "source": [
    "# Porównaj dokładność (accuracy) w/w klasyfikatorów z zespołem z głosowaniem typu hard oraz soft.\n",
    "# Zapisz rezultaty jako listę par (dokładność_dla_zb_uczącego, dokładność_dla_zb_testującego) dla każdego z w/w klasyfikatorów (razem 5 elementów) i umieść ją w pliku Pickle o nazwie acc_vote.pkl\n",
    "# Zapisz klasyfikatory jako listę w pliku Pickle o nazwie vote.pkl\n",
    "from sklearn.metrics import accuracy_score\n",
    "import pickle\n",
    "\n",
    "acc_vote = []\n",
    "\n",
    "for clf in (dt_clf, log_clf, knn_clf, voting_clf_hard, voting_clf_soft):\n",
    "    clf.fit(X_train[['mean texture', 'mean symmetry']], y_train)\n",
    "    y_pred = clf.predict(X_test[['mean texture', 'mean symmetry']])\n",
    "    acc_vote.append((accuracy_score(y_train, clf.predict(X_train[['mean texture', 'mean symmetry']])), accuracy_score(y_test, y_pred)))\n",
    "    print(clf.__class__.__name__, accuracy_score(y_test, y_pred))\n",
    "\n",
    "with open('acc_vote.pkl', 'wb') as f:\n",
    "    pickle.dump(acc_vote, f)\n",
    "\n",
    "with open('vote.pkl', 'wb') as f:\n",
    "    pickle.dump([dt_clf, log_clf, knn_clf, voting_clf_hard, voting_clf_soft], f)"
   ]
  },
  {
   "cell_type": "code",
   "execution_count": 21,
   "metadata": {},
   "outputs": [
    {
     "name": "stdout",
     "output_type": "stream",
     "text": [
      "BaggingClassifier 0.6754385964912281\n",
      "BaggingClassifier 0.6842105263157895\n",
      "BaggingClassifier 0.6228070175438597\n",
      "BaggingClassifier 0.6491228070175439\n",
      "RandomForestClassifier 0.6754385964912281\n",
      "AdaBoostClassifier 0.631578947368421\n",
      "GradientBoostingClassifier 0.7105263157894737\n"
     ]
    }
   ],
   "source": [
    "# Wykonaj na zbiorze uczącym wykorzystując 30 drzew decyzyjnych:\n",
    "# • Bagging,\n",
    "# • Bagging z wykorzystaniem 50% instancji,\n",
    "# • Pasting,\n",
    "# • Pasting z wykorzystaniem 50% instancji, oraz • Random Forest,\n",
    "# • AdaBoost,\n",
    "# • Gradient Boosting.\n",
    "# Oblicz dokładności oraz zapisz je jako listę par (dokładność_dla_zb_uczącego, dokładność_dla_zb_testującego) dla każdego z w/w estymatorów (razem 7 elementów) w pliku Pickle o nazwie acc_bag.pkl.\n",
    "# Zapisz klasyfikatory jako listę w pliku Pickle o nazwie bag.pkl\n",
    "\n",
    "from sklearn.ensemble import BaggingClassifier\n",
    "from sklearn.ensemble import RandomForestClassifier\n",
    "from sklearn.ensemble import AdaBoostClassifier\n",
    "from sklearn.ensemble import GradientBoostingClassifier\n",
    "\n",
    "bag_clf = BaggingClassifier(DecisionTreeClassifier(), n_estimators=30, random_state=42)\n",
    "bag_clf_50 = BaggingClassifier(DecisionTreeClassifier(), n_estimators=30, max_samples=0.5, random_state=42)\n",
    "pas_clf = BaggingClassifier(DecisionTreeClassifier(), n_estimators=30, bootstrap=False, random_state=42)\n",
    "pas_clf_50 = BaggingClassifier(DecisionTreeClassifier(), n_estimators=30, bootstrap=False, max_samples=0.5, random_state=42)\n",
    "rf_clf = RandomForestClassifier(n_estimators=30, random_state=42)\n",
    "ada_clf = AdaBoostClassifier(DecisionTreeClassifier(), n_estimators=30, random_state=42)\n",
    "grad_clf = GradientBoostingClassifier(n_estimators=30, random_state=42)\n",
    "\n",
    "acc_bag = []\n",
    "\n",
    "for clf in (bag_clf, bag_clf_50, pas_clf, pas_clf_50, rf_clf, ada_clf, grad_clf):\n",
    "    clf.fit(X_train[['mean texture', 'mean symmetry']], y_train)\n",
    "    y_pred = clf.predict(X_test[['mean texture', 'mean symmetry']])\n",
    "    acc_bag.append((accuracy_score(y_train, clf.predict(X_train[['mean texture', 'mean symmetry']])), accuracy_score(y_test, y_pred)))\n",
    "    print(clf.__class__.__name__, accuracy_score(y_test, y_pred))\n",
    "\n",
    "with open('acc_bag.pkl', 'wb') as f:\n",
    "    pickle.dump(acc_bag, f)\n",
    "\n",
    "with open('bag.pkl', 'wb') as f:\n",
    "    pickle.dump([bag_clf, bag_clf_50, pas_clf, pas_clf_50, rf_clf, ada_clf, grad_clf], f)\n",
    "\n",
    "\n"
   ]
  },
  {
   "cell_type": "code",
   "execution_count": 35,
   "metadata": {},
   "outputs": [
    {
     "name": "stdout",
     "output_type": "stream",
     "text": [
      "BaggingClassifier 0.9736842105263158\n",
      "BaggingClassifier(estimator=DecisionTreeClassifier(), n_estimators=30,\n",
      "                  random_state=42)\n",
      "BaggingClassifier(max_features=2, max_samples=0.5, n_estimators=30,\n",
      "                  random_state=42)\n"
     ]
    }
   ],
   "source": [
    "# Przeprowadź sampling 2 cech z wszystkich dostepnych bez powtórzeń z wykorzystaniem 30 drzew decyzyjnych, wybierz połowę instancji dla każdego z drzew z powtórzeniami.\n",
    "# Zapisz dokładności w/w estymatora jako listę : dokładność_dla_zb_uczącego, dokładność_dla_zb_testującego w pliku Pickle acc_fea.pkl.\n",
    "# Zapisz klasyfikator jako jednoelementową listę w pliku Pickle o nazwie fea.pkl\n",
    "\n",
    "bag_clf_fea = BaggingClassifier(n_estimators=30, max_features=2, max_samples=0.5, bootstrap_features=False, random_state=42)\n",
    "\n",
    "bag_clf_fea.fit(X_train, y_train)\n",
    "y_pred = bag_clf_fea.predict(X_test)\n",
    "acc_fea = [accuracy_score(y_train, bag_clf_fea.predict(X_train)), accuracy_score(y_test, y_pred)]\n",
    "print(bag_clf_fea.__class__.__name__, accuracy_score(y_test, y_pred))\n",
    "print(bag_clf)\n",
    "print(bag_clf_fea)\n",
    "with open('acc_fea.pkl', 'wb') as f:\n",
    "    pickle.dump(acc_fea, f)\n",
    "\n",
    "with open('fea.pkl', 'wb') as f:\n",
    "    pickle.dump([bag_clf_fea], f)"
   ]
  },
  {
   "cell_type": "code",
   "execution_count": 32,
   "metadata": {},
   "outputs": [
    {
     "data": {
      "text/html": [
       "<div>\n",
       "<style scoped>\n",
       "    .dataframe tbody tr th:only-of-type {\n",
       "        vertical-align: middle;\n",
       "    }\n",
       "\n",
       "    .dataframe tbody tr th {\n",
       "        vertical-align: top;\n",
       "    }\n",
       "\n",
       "    .dataframe thead th {\n",
       "        text-align: right;\n",
       "    }\n",
       "</style>\n",
       "<table border=\"1\" class=\"dataframe\">\n",
       "  <thead>\n",
       "    <tr style=\"text-align: right;\">\n",
       "      <th></th>\n",
       "      <th>train_accuracy</th>\n",
       "      <th>test_accuracy</th>\n",
       "      <th>features</th>\n",
       "    </tr>\n",
       "  </thead>\n",
       "  <tbody>\n",
       "    <tr>\n",
       "      <th>1</th>\n",
       "      <td>1.0</td>\n",
       "      <td>0.938596</td>\n",
       "      <td>[mean radius, mean concavity]</td>\n",
       "    </tr>\n",
       "    <tr>\n",
       "      <th>20</th>\n",
       "      <td>1.0</td>\n",
       "      <td>0.921053</td>\n",
       "      <td>[worst perimeter, symmetry error]</td>\n",
       "    </tr>\n",
       "    <tr>\n",
       "      <th>6</th>\n",
       "      <td>1.0</td>\n",
       "      <td>0.912281</td>\n",
       "      <td>[worst perimeter, mean smoothness]</td>\n",
       "    </tr>\n",
       "    <tr>\n",
       "      <th>15</th>\n",
       "      <td>1.0</td>\n",
       "      <td>0.903509</td>\n",
       "      <td>[worst fractal dimension, mean area]</td>\n",
       "    </tr>\n",
       "    <tr>\n",
       "      <th>13</th>\n",
       "      <td>1.0</td>\n",
       "      <td>0.894737</td>\n",
       "      <td>[perimeter error, worst radius]</td>\n",
       "    </tr>\n",
       "  </tbody>\n",
       "</table>\n",
       "</div>"
      ],
      "text/plain": [
       "    train_accuracy  test_accuracy                              features\n",
       "1              1.0       0.938596         [mean radius, mean concavity]\n",
       "20             1.0       0.921053     [worst perimeter, symmetry error]\n",
       "6              1.0       0.912281    [worst perimeter, mean smoothness]\n",
       "15             1.0       0.903509  [worst fractal dimension, mean area]\n",
       "13             1.0       0.894737       [perimeter error, worst radius]"
      ]
     },
     "execution_count": 32,
     "metadata": {},
     "output_type": "execute_result"
    }
   ],
   "source": [
    "# Sprawdź, które cechy dają najwięszą dokładność. Dostęp do poszczególnych estymatorów, aby obliczyć dokładność, możesz uzyskać za pomocą: BaggingClasifier.estimators_, cechy wybrane przez sampling dla każdego z estymatorów znajdziesz w: BaggingClassifier.estimators_features_. Zbuduj ranking estymatorów jako DataFrame, który będzie mieć w kolejnych kolumnach: dokładność dla zb. uczącego, dokładnośc dla zb. testującego, lista nazw cech. Każdy wiersz to informacje o jednym estymatorze. DataFrame posortuj malejąco po wartościach dokładności dla zbioru testującego i uczącego oraz zapisz w pliku Pickle o nazwie acc_fea_rank.pkl\n",
    "\n",
    "import pandas as pd\n",
    "\n",
    "acc_fea_rank = []\n",
    "\n",
    "for estimator, features in zip(bag_clf_fea.estimators_, bag_clf_fea.estimators_features_):\n",
    "    estimator.fit(X_train.iloc[:, features], y_train)\n",
    "    y_pred = estimator.predict(X_test.iloc[:, features])\n",
    "    acc_fea_rank.append((accuracy_score(y_train, estimator.predict(X_train.iloc[:, features])), accuracy_score(y_test, y_pred), X_train.columns[features].tolist()))\n",
    "\n",
    "acc_fea_rank_df = pd.DataFrame(acc_fea_rank, columns=['train_accuracy', 'test_accuracy', 'features'])\n",
    "acc_fea_rank_df = acc_fea_rank_df.sort_values(by=['train_accuracy', 'test_accuracy'], ascending=False)\n",
    "\n",
    "with open('acc_fea_rank.pkl', 'wb') as f:\n",
    "    pickle.dump(acc_fea_rank_df, f)\n"
   ]
  }
 ],
 "metadata": {
  "kernelspec": {
   "display_name": "mllab",
   "language": "python",
   "name": "python3"
  },
  "language_info": {
   "codemirror_mode": {
    "name": "ipython",
    "version": 3
   },
   "file_extension": ".py",
   "mimetype": "text/x-python",
   "name": "python",
   "nbconvert_exporter": "python",
   "pygments_lexer": "ipython3",
   "version": "3.9.18"
  }
 },
 "nbformat": 4,
 "nbformat_minor": 2
}
